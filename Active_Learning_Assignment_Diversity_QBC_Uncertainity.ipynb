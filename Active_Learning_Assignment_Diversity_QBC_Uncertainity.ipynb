{
 "cells": [
  {
   "cell_type": "markdown",
   "metadata": {},
   "source": [
    "Machine Learning Assignment 2\n",
    "Active Learning\n",
    "\n",
    "Group Number : 29\n",
    "\n",
    "Group Members:\n",
    "Aquib Junaid Razack (2017A2PS0704P)\n",
    "Shyam Sundar P I (2016A4PS0378P)\n",
    "Praveen Ravirathinam (2017A7PS1174P)\n",
    "\n",
    "Wine Classification\n",
    "Question 1 and 2"
   ]
  },
  {
   "cell_type": "markdown",
   "metadata": {},
   "source": [
    "# Setting up the environment"
   ]
  },
  {
   "cell_type": "code",
   "execution_count": 1,
   "metadata": {},
   "outputs": [],
   "source": [
    "import numpy as np\n",
    "import pandas as pd\n",
    "from sklearn.datasets import load_wine\n",
    "from sklearn.preprocessing import MinMaxScaler\n",
    "import warnings\n",
    "warnings.filterwarnings('ignore')"
   ]
  },
  {
   "cell_type": "code",
   "execution_count": 2,
   "metadata": {},
   "outputs": [],
   "source": [
    "from sklearn.model_selection import train_test_split"
   ]
  },
  {
   "cell_type": "code",
   "execution_count": 3,
   "metadata": {},
   "outputs": [],
   "source": [
    "from sklearn.linear_model import LogisticRegression\n",
    "from sklearn.metrics import accuracy_score"
   ]
  },
  {
   "cell_type": "code",
   "execution_count": 4,
   "metadata": {},
   "outputs": [],
   "source": [
    "from sklearn.tree import DecisionTreeClassifier\n",
    "from sklearn.ensemble import RandomForestClassifier\n",
    "from sklearn.svm import SVC\n",
    "from sklearn.naive_bayes import GaussianNB\n",
    "from sklearn.discriminant_analysis import LinearDiscriminantAnalysis\n",
    "from sklearn.neighbors import KNeighborsClassifier"
   ]
  },
  {
   "cell_type": "code",
   "execution_count": 5,
   "metadata": {},
   "outputs": [],
   "source": [
    "from sklearn.cluster import KMeans"
   ]
  },
  {
   "cell_type": "markdown",
   "metadata": {},
   "source": [
    "# Preprocessing the data"
   ]
  },
  {
   "cell_type": "code",
   "execution_count": 6,
   "metadata": {},
   "outputs": [],
   "source": [
    "wine = load_wine()"
   ]
  },
  {
   "cell_type": "code",
   "execution_count": 7,
   "metadata": {},
   "outputs": [],
   "source": [
    "train = pd.DataFrame(wine.data, columns=wine.feature_names)"
   ]
  },
  {
   "cell_type": "code",
   "execution_count": 8,
   "metadata": {},
   "outputs": [],
   "source": [
    "target = pd.DataFrame(wine.target, columns = ['Class'])"
   ]
  },
  {
   "cell_type": "code",
   "execution_count": 9,
   "metadata": {},
   "outputs": [],
   "source": [
    "scal = MinMaxScaler()"
   ]
  },
  {
   "cell_type": "code",
   "execution_count": 10,
   "metadata": {},
   "outputs": [],
   "source": [
    "train = scal.fit_transform(train)"
   ]
  },
  {
   "cell_type": "code",
   "execution_count": 11,
   "metadata": {},
   "outputs": [],
   "source": [
    "train = pd.DataFrame(train, columns = wine.feature_names)"
   ]
  },
  {
   "cell_type": "code",
   "execution_count": 12,
   "metadata": {},
   "outputs": [],
   "source": [
    "#Splitting into train and test\n",
    "X_train, X_test, y_train, y_test = train_test_split(train, target, test_size = 0.20, random_state = 69)"
   ]
  },
  {
   "cell_type": "code",
   "execution_count": 13,
   "metadata": {},
   "outputs": [],
   "source": [
    "#Splitting train into labelled and unlabelled\n",
    "X_train_init, X_unlabelled, y_train_init, oracle = train_test_split(X_train, y_train, test_size = 0.95, random_state = 69)"
   ]
  },
  {
   "cell_type": "markdown",
   "metadata": {},
   "source": [
    "# Uncertainty Sampling"
   ]
  },
  {
   "cell_type": "code",
   "execution_count": 14,
   "metadata": {},
   "outputs": [],
   "source": [
    "def uncertainty(model,unlabelled,oracle,mode,AL_type):\n",
    "    if AL_type.lower() == \"stream\":\n",
    "        new_X_train = pd.DataFrame(columns = unlabelled.columns)\n",
    "        new_y_train = pd.DataFrame(columns = oracle.columns)\n",
    "        if mode == 1:\n",
    "            for i, row in unlabelled.iterrows():\n",
    "                prob = model.predict_proba(pd.DataFrame(row).T).max()\n",
    "                if prob < 0.38:\n",
    "                    new_X_train = new_X_train.append(row.T)\n",
    "                    new_y_train = new_y_train.append(pd.DataFrame(oracle.loc[i,:]).T)\n",
    "            return new_X_train, new_y_train\n",
    "        if mode == 2:\n",
    "            for i, row in unlabelled.iterrows():\n",
    "                prob = np.sort(model.predict_proba(pd.DataFrame(row).T))[0][2] - np.sort(model.predict_proba(pd.DataFrame(row).T))[0][1]\n",
    "                if prob < 0.03:\n",
    "                    new_X_train = new_X_train.append(row.T)\n",
    "                    new_y_train = new_y_train.append(pd.DataFrame(oracle.loc[i,:]).T)\n",
    "            return new_X_train, new_y_train\n",
    "        if mode == 3:\n",
    "            for i, row in unlabelled.iterrows():\n",
    "                prob = model.predict_proba(pd.DataFrame(row).T)\n",
    "                ent = -np.sum(prob*np.log(prob))\n",
    "                if ent > 1.09:\n",
    "                    new_X_train = new_X_train.append(row.T)\n",
    "                    new_y_train = new_y_train.append(pd.DataFrame(oracle.loc[i,:]).T)\n",
    "            return new_X_train, new_y_train\n",
    "        \n",
    "    if AL_type.lower() == \"pool\":\n",
    "        new_X_train = pd.DataFrame(columns = unlabelled.columns)\n",
    "        new_y_train = pd.DataFrame(columns = oracle.columns)\n",
    "        if mode == 1:\n",
    "            prob = pd.DataFrame(model.predict_proba(unlabelled))\n",
    "            prob_max_idx = np.argsort(prob.max(axis = 1))\n",
    "            idx = prob_max_idx[:20]\n",
    "            new_X_train = unlabelled.iloc[idx,:]\n",
    "            new_y_train = oracle.iloc[idx,:]\n",
    "            return new_X_train, new_y_train\n",
    "        if mode == 2:\n",
    "            prob = model.predict_proba(unlabelled)\n",
    "            idx = np.argsort(np.sort(prob)[:,2] - np.sort(prob)[:,1])[:20]\n",
    "            new_X_train = unlabelled.iloc[idx,:]\n",
    "            new_y_train = oracle.iloc[idx,:]\n",
    "            return new_X_train, new_y_train\n",
    "        if mode == 3:\n",
    "            prob = model.predict_proba(unlabelled)\n",
    "            idx = np.argsort(-np.sum(prob*np.log(prob),axis = 1))[-20:]\n",
    "            new_X_train = unlabelled.iloc[idx,:]\n",
    "            new_y_train = oracle.iloc[idx,:]\n",
    "            return new_X_train, new_y_train"
   ]
  },
  {
   "cell_type": "markdown",
   "metadata": {},
   "source": [
    "# Query by Committee "
   ]
  },
  {
   "cell_type": "code",
   "execution_count": 15,
   "metadata": {},
   "outputs": [],
   "source": [
    "def qbc(committee, unlabelled, oracle, mode, AL_type):\n",
    "    if AL_type.lower() == \"stream\":\n",
    "        new_X_train = pd.DataFrame(columns = unlabelled.columns)\n",
    "        new_y_train = pd.DataFrame(columns = oracle.columns)  \n",
    "        if mode == 1:\n",
    "            pred = []\n",
    "            for i, row in unlabelled.iterrows():\n",
    "                for j in range(7):\n",
    "                    pred.append(committee[j].predict(pd.DataFrame(row).T)[0])\n",
    "\n",
    "                x = pred.count(0)/len(pred) * np.log(pred.count(0)/len(pred))\n",
    "                y = pred.count(1)/len(pred) * np.log(pred.count(1)/len(pred))\n",
    "                z = pred.count(2)/len(pred) * np.log(pred.count(2)/len(pred))\n",
    "                if pred.count(0) == 0:\n",
    "                    x = 0\n",
    "                if pred.count(1) == 0:\n",
    "                    y = 0\n",
    "                if pred.count(2) == 0:\n",
    "                    z = 0\n",
    "                ent = -(x + y + z)\n",
    "                if ent > 1:\n",
    "                    new_X_train = new_X_train.append(row.T)\n",
    "                    new_y_train = new_y_train.append(pd.DataFrame(oracle.loc[i,:]).T)\n",
    "            return new_X_train, new_y_train\n",
    "        if mode == 2: \n",
    "            pred = []\n",
    "            for i, row in unlabelled.iterrows():\n",
    "                for j in range(7):\n",
    "                    pred.append(committee[j].predict(pd.DataFrame(row).T)[0])\n",
    "\n",
    "                x = pred.count(0) * np.log(pred.count(0)/len(pred))\n",
    "                y = pred.count(1) * np.log(pred.count(1)/len(pred))\n",
    "                z = pred.count(2) * np.log(pred.count(2)/len(pred))\n",
    "                if pred.count(0) == 0:\n",
    "                    x = 0\n",
    "                if pred.count(1) == 0:\n",
    "                    y = 0\n",
    "                if pred.count(2) == 0:\n",
    "                    z = 0\n",
    "                kld = -(x + y + z)\n",
    "                if kld > 700:\n",
    "                    new_X_train = new_X_train.append(row.T)\n",
    "                    new_y_train = new_y_train.append(pd.DataFrame(oracle.loc[i,:]).T)\n",
    "            return new_X_train, new_y_train\n",
    "    \n",
    "    if AL_type.lower() == \"pool\":\n",
    "        new_X_train = pd.DataFrame(columns = unlabelled.columns)\n",
    "        new_y_train = pd.DataFrame(columns = oracle.columns)  \n",
    "        if mode == 1:\n",
    "            pred = []\n",
    "            ent = []\n",
    "            for j in range(7):\n",
    "                pred.append(committee[j].predict(unlabelled))\n",
    "            pred = np.array(pred)\n",
    "\n",
    "            for i in range(len(X_unlabelled)):\n",
    "                c_pred = pd.DataFrame(pred).iloc[:,i].tolist()\n",
    "                x = c_pred.count(0)/len(c_pred) * np.log(c_pred.count(0)/len(c_pred))\n",
    "                y = c_pred.count(1)/len(c_pred) * np.log(c_pred.count(1)/len(c_pred))\n",
    "                z = c_pred.count(2)/len(c_pred) * np.log(c_pred.count(2)/len(c_pred))\n",
    "                if c_pred.count(0) == 0:\n",
    "                    x = 0\n",
    "                if c_pred.count(1) == 0:\n",
    "                    y = 0\n",
    "                if c_pred.count(2) == 0:\n",
    "                    z = 0\n",
    "                ent.append(-(x + y + z))\n",
    "            ent = np.array(ent)    \n",
    "            idx = np.argsort(ent,axis = 0)[-20:]\n",
    "            new_X_train = unlabelled.iloc[idx,:]\n",
    "            new_y_train = oracle.iloc[idx,:]\n",
    "            return new_X_train, new_y_train\n",
    "\n",
    "        if mode == 2: \n",
    "            pred = []\n",
    "            ent = []\n",
    "            for j in range(7):\n",
    "                pred.append(committee[j].predict(unlabelled))\n",
    "            pred = np.array(pred)\n",
    "\n",
    "            for i in range(len(X_unlabelled)):\n",
    "                c_pred = pd.DataFrame(pred).iloc[:,i].tolist()\n",
    "                x = c_pred.count(0) * np.log(c_pred.count(0)/len(c_pred))\n",
    "                y = c_pred.count(1) * np.log(c_pred.count(1)/len(c_pred))\n",
    "                z = c_pred.count(2) * np.log(c_pred.count(2)/len(c_pred))\n",
    "                if c_pred.count(0) == 0:\n",
    "                    x = 0\n",
    "                if c_pred.count(1) == 0:\n",
    "                    y = 0\n",
    "                if c_pred.count(2) == 0:\n",
    "                    z = 0\n",
    "                ent.append(-(x + y + z))\n",
    "            ent = np.array(ent)    \n",
    "            idx = np.argsort(ent,axis = 0)[-20:]\n",
    "            new_X_train = unlabelled.iloc[idx,:]\n",
    "            new_y_train = oracle.iloc[idx,:]\n",
    "            return new_X_train, new_y_train"
   ]
  },
  {
   "cell_type": "markdown",
   "metadata": {},
   "source": [
    "# Diversity Sampling"
   ]
  },
  {
   "cell_type": "code",
   "execution_count": 16,
   "metadata": {},
   "outputs": [],
   "source": [
    "def div(model, unlabelled, oracle, AL_type):\n",
    "    if AL_type.lower() == \"pool\":\n",
    "        new_X_train = pd.DataFrame(columns = unlabelled.columns)\n",
    "        new_y_train = pd.DataFrame(columns = oracle.columns)\n",
    "        kmeans = KMeans(n_clusters = 3, random_state = 69)\n",
    "        kmeans.fit(unlabelled)\n",
    "        unlabelled['Cluster number'] = pd.DataFrame(kmeans.labels_).values\n",
    "\n",
    "        X_zero = unlabelled[unlabelled['Cluster number'] == 0]\n",
    "        X_one = unlabelled[unlabelled['Cluster number'] == 1]\n",
    "        X_two = unlabelled[unlabelled['Cluster number'] == 2]\n",
    "        oracle_X_zero = oracle.loc[X_zero.index,:]\n",
    "        oracle_X_one = oracle.loc[X_one.index,:]\n",
    "        oracle_X_two = oracle.loc[X_two.index,:]\n",
    "\n",
    "        rand_zero = np.random.randint(0, len(X_zero), 10)\n",
    "        rand_one = np.random.randint(0, len(X_one), 10)\n",
    "        rand_two = np.random.randint(0, len(X_two), 10)\n",
    "\n",
    "        new_X_zero = X_zero.iloc[rand_zero,:]\n",
    "        new_X_one = X_one.iloc[rand_one,:]\n",
    "        new_X_two = X_two.iloc[rand_two,:]\n",
    "        new_y_zero = oracle_X_zero.iloc[rand_zero,:]\n",
    "        new_y_one = oracle_X_one.iloc[rand_one,:]\n",
    "        new_y_two = oracle_X_two.iloc[rand_two,:]\n",
    "\n",
    "        new_X_train = new_X_zero.append(new_X_one).append(new_X_two)\n",
    "        new_y_train = new_y_zero.append(new_y_one).append(new_y_two)\n",
    "        new_X_train = new_X_train.drop(columns = ['Cluster number'])\n",
    "\n",
    "        new_X_train, new_y_train = uncertainty(model, new_X_train, new_y_train, 1, AL_type)\n",
    "\n",
    "        return new_X_train, new_y_train\n",
    "    \n",
    "    if AL_type.lower() == \"stream\":\n",
    "        new_X_train = pd.DataFrame(columns = unlabelled.columns)\n",
    "        new_y_train = pd.DataFrame(columns = oracle.columns)\n",
    "        kmeans = KMeans(n_clusters = 3, random_state = 69)\n",
    "        kmeans.fit(unlabelled)\n",
    "        unlabelled['Cluster number'] = pd.DataFrame(kmeans.labels_).values\n",
    "\n",
    "        X_zero = unlabelled[unlabelled['Cluster number'] == 0]\n",
    "        X_one = unlabelled[unlabelled['Cluster number'] == 1]\n",
    "        X_two = unlabelled[unlabelled['Cluster number'] == 2]\n",
    "        oracle_X_zero = oracle.loc[X_zero.index,:]\n",
    "        oracle_X_one = oracle.loc[X_one.index,:]\n",
    "        oracle_X_two = oracle.loc[X_two.index,:]\n",
    "\n",
    "        rand_zero = np.random.randint(0, len(X_zero), 10)\n",
    "        rand_one = np.random.randint(0, len(X_one), 10)\n",
    "        rand_two = np.random.randint(0, len(X_two), 10)\n",
    "\n",
    "        new_X_zero = X_zero.iloc[rand_zero,:]\n",
    "        new_X_one = X_one.iloc[rand_one,:]\n",
    "        new_X_two = X_two.iloc[rand_two,:]\n",
    "        new_y_zero = oracle_X_zero.iloc[rand_zero,:]\n",
    "        new_y_one = oracle_X_one.iloc[rand_one,:]\n",
    "        new_y_two = oracle_X_two.iloc[rand_two,:]\n",
    "\n",
    "        new_X_train = new_X_zero.append(new_X_one).append(new_X_two)\n",
    "        new_y_train = new_y_zero.append(new_y_one).append(new_y_two)\n",
    "        new_X_train = new_X_train.drop(columns = ['Cluster number'])\n",
    "\n",
    "        new_X_train, new_y_train = uncertainty(model, new_X_train, new_y_train, 1, AL_type)\n",
    "\n",
    "        return new_X_train, new_y_train"
   ]
  },
  {
   "cell_type": "markdown",
   "metadata": {},
   "source": [
    "# Main Function"
   ]
  },
  {
   "cell_type": "code",
   "execution_count": 17,
   "metadata": {},
   "outputs": [
    {
     "data": {
      "text/plain": [
       "0.6388888888888888"
      ]
     },
     "execution_count": 17,
     "metadata": {},
     "output_type": "execute_result"
    }
   ],
   "source": [
    "model = LogisticRegression()\n",
    "\n",
    "model.fit(X_train_init,y_train_init)\n",
    "\n",
    "prediction = model.predict(X_test)\n",
    "accuracy_score(y_test, prediction)"
   ]
  },
  {
   "cell_type": "code",
   "execution_count": 18,
   "metadata": {},
   "outputs": [],
   "source": [
    "committee = []\n",
    "committee.append(LogisticRegression())\n",
    "committee.append(DecisionTreeClassifier())\n",
    "committee.append(RandomForestClassifier())\n",
    "committee.append(SVC())\n",
    "committee.append(GaussianNB())\n",
    "committee.append(LinearDiscriminantAnalysis())\n",
    "committee.append(KNeighborsClassifier())\n",
    "\n",
    "for i in range(7):\n",
    "    committee[i].fit(X_train_init, y_train_init)"
   ]
  },
  {
   "cell_type": "code",
   "execution_count": 37,
   "metadata": {},
   "outputs": [
    {
     "name": "stdout",
     "output_type": "stream",
     "text": [
      "Type 'stream' for stream based Active Learning\n",
      "Type 'pool' for pool based Active Learning\n",
      "CASE INSENSITIVE\n",
      "pool\n",
      "Input the query strategy:\n",
      "'uncertainty' for Uncertainty sampling\n",
      "'QBC' for Query by Committee\n",
      "'diversity' for Diversity sampling\n",
      "CASE INSENSITIVE\n",
      "diversity\n"
     ]
    }
   ],
   "source": [
    "AL_type = input(\"Type 'stream' for stream based Active Learning\\nType 'pool' for pool based Active Learning\\nCASE INSENSITIVE\\n\")\n",
    "\n",
    "query_type = input(\"Input the query strategy:\\n'uncertainty' for Uncertainty sampling\\n'QBC' for Query by Committee\\n'diversity' for Diversity sampling\\nCASE INSENSITIVE\\n\")\n",
    "\n",
    "X_train_final = X_train_init\n",
    "y_train_final = y_train_init\n",
    "\n",
    "if query_type.lower() == 'uncertainty':\n",
    "    mode = input(\"Input the mode:\\n'1' - Least Confident\\n'2' - Margin\\n'3' - Entropy\\n\")\n",
    "    mode = int(mode)\n",
    "    X, Y = uncertainty(model, X_unlabelled, oracle, mode, AL_type)\n",
    "    X_train_final = X_train_final.append(X)\n",
    "    y_train_final = y_train_final.append(Y)\n",
    "\n",
    "if query_type.lower() == 'qbc':\n",
    "    mode = input(\"Input the mode:\\n'1' - Entropy\\n'2' - KL divergence\\n\")\n",
    "    mode = int(mode)\n",
    "    X, Y = qbc(committee, X_unlabelled, oracle, mode, AL_type)\n",
    "    X_train_final = X_train_final.append(X)\n",
    "    y_train_final = y_train_final.append(Y)\n",
    "    \n",
    "if query_type.lower() == 'diversity':\n",
    "    X, Y = div(model, X_unlabelled, oracle, AL_type)\n",
    "    X_train_final = X_train_final.append(X)\n",
    "    y_train_final = y_train_final.append(Y)\n",
    "    \n",
    "y_train_final = y_train_final.astype('int')"
   ]
  },
  {
   "cell_type": "code",
   "execution_count": 38,
   "metadata": {},
   "outputs": [
    {
     "data": {
      "text/plain": [
       "(27, 13)"
      ]
     },
     "execution_count": 38,
     "metadata": {},
     "output_type": "execute_result"
    }
   ],
   "source": [
    "X_train_final.shape"
   ]
  },
  {
   "cell_type": "code",
   "execution_count": 39,
   "metadata": {},
   "outputs": [
    {
     "data": {
      "text/plain": [
       "0.6666666666666666"
      ]
     },
     "execution_count": 39,
     "metadata": {},
     "output_type": "execute_result"
    }
   ],
   "source": [
    "ga = LogisticRegression()\n",
    "ga.fit(X_train_final, y_train_final)\n",
    "\n",
    "prediction = ga.predict(X_test)\n",
    "accuracy_score(y_test, prediction)"
   ]
  }
 ],
 "metadata": {
  "kernelspec": {
   "display_name": "Python 3",
   "language": "python",
   "name": "python3"
  },
  "language_info": {
   "codemirror_mode": {
    "name": "ipython",
    "version": 3
   },
   "file_extension": ".py",
   "mimetype": "text/x-python",
   "name": "python",
   "nbconvert_exporter": "python",
   "pygments_lexer": "ipython3",
   "version": "3.7.3"
  }
 },
 "nbformat": 4,
 "nbformat_minor": 2
}
